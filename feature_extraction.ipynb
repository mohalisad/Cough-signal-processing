{
 "cells": [
  {
   "cell_type": "markdown",
   "id": "44499946-dd77-4760-9488-dd634b486538",
   "metadata": {},
   "source": [
    "### Install the package"
   ]
  },
  {
   "cell_type": "code",
   "execution_count": null,
   "id": "826ae611-bea2-4140-a044-f6c2729b9793",
   "metadata": {},
   "outputs": [],
   "source": [
    "# !git clone https://github.com/mohalisad/Cough-signal-processing.git\n",
    "!pip install -r ./Cough-signal-processing/requirements.txt\n",
    "!mv ./Cough-signal-processing/csp ./"
   ]
  },
  {
   "cell_type": "markdown",
   "id": "110097e7-fa78-4739-8a74-c3719124f780",
   "metadata": {},
   "source": [
    "### Start the code"
   ]
  },
  {
   "cell_type": "code",
   "execution_count": 1,
   "id": "c6620d04-1f68-41bb-9808-0023e5e039ef",
   "metadata": {},
   "outputs": [
    {
     "ename": "NameError",
     "evalue": "name 'SpectrogramFeatures' is not defined",
     "output_type": "error",
     "traceback": [
      "\u001b[0;31m---------------------------------------------------------------------------\u001b[0m",
      "\u001b[0;31mNameError\u001b[0m                                 Traceback (most recent call last)",
      "Input \u001b[0;32mIn [1]\u001b[0m, in \u001b[0;36m<cell line: 1>\u001b[0;34m()\u001b[0m\n\u001b[0;32m----> 1\u001b[0m sp \u001b[38;5;241m=\u001b[39m \u001b[43mSpectrogramFeatures\u001b[49m(\u001b[38;5;124m'\u001b[39m\u001b[38;5;124mdata/longitudinal/1620627631190-recording-1.wav\u001b[39m\u001b[38;5;124m'\u001b[39m)\n\u001b[1;32m      2\u001b[0m data \u001b[38;5;241m=\u001b[39m sp\u001b[38;5;241m.\u001b[39mspectrogram_data()\n",
      "\u001b[0;31mNameError\u001b[0m: name 'SpectrogramFeatures' is not defined"
     ]
    }
   ],
   "source": [
    "def save_as_image(np_array, file_name, size=(224, 224)):\n",
    "    np_array = np_array - np_array.min()\n",
    "    np_array = np_array / np_array.max()\n",
    "    np_array = np_array[::-1, :]\n",
    "\n",
    "    im = Image.fromarray(np.uint8(cm.jet(np_array) * 255)).resize(size)\n",
    "    im.save(np_array)"
   ]
  },
  {
   "cell_type": "code",
   "execution_count": 12,
   "id": "4d04b55b-db1b-4bab-925d-8fefdffdcfdb",
   "metadata": {},
   "outputs": [],
   "source": [
    "import json\n",
    "\n",
    "for item in all_data.values():\n",
    "    for k, v in item.items():\n",
    "        if type(v) is np.ndarray:\n",
    "            item[k] = v.tolist()\n",
    "\n",
    "with open('features.json', 'w') as f:\n",
    "    json.dump(all_data, f)"
   ]
  },
  {
   "cell_type": "code",
   "execution_count": null,
   "id": "d3d28f7a-78d2-47c9-9954-26119cc42c3b",
   "metadata": {},
   "outputs": [],
   "source": [
    "import glob\n",
    "from pathlib import Path\n",
    "from csp import SpectrogramFeatures\n",
    "from tqdm.notebook import tqdm\n",
    "import numpy as np\n",
    "from csp import time_domain\n",
    "from PIL import Image\n",
    "from matplotlib import cm\n",
    "\n",
    "folders = ['./data/longitudinal/', './data/solicited/']\n",
    "\n",
    "OUTPUT_PREFIX = './output'\n",
    "\n",
    "all_data = {}\n",
    "\n",
    "for folder in folders:\n",
    "    for filename in tqdm(glob.glob(f'{folder}*.wav')):\n",
    "        p = Path(filename)\n",
    "        file_id = p.name[:-4]\n",
    "        folder = p.parent.name\n",
    "        data = SpectrogramFeatures(filename).spectrogram_data()\n",
    "        \n",
    "        mag_path = Path(f'{OUTPUT_PREFIX}/{folder}_mag/{file_id}.npy')\n",
    "        mag_path_png = Path(f'{OUTPUT_PREFIX}/{folder}_mag_png/{file_id}.png')\n",
    "        mel_mag_path = Path(f'{OUTPUT_PREFIX}/{folder}_mel_mag/{file_id}.npy')\n",
    "        mel_mag_path_png = Path(f'{OUTPUT_PREFIX}/{folder}_mel_mag_png/{file_id}.png')\n",
    "        \n",
    "        for p in [mag_path, mag_path_png, mel_mag_path, mel_mag_path_png]:\n",
    "            p.parent.mkdir(parents=True, exist_ok=True)\n",
    "        \n",
    "        with open(mag_path, 'wb') as f:\n",
    "            np.save(f, data['log_spectrogram'])\n",
    "        save_as_image(data['log_spectrogram'], mag_path_png)\n",
    "        \n",
    "        with open(mel_mag_path, 'wb') as f:\n",
    "            np.save(f, data['mel_spectrogram_db'])\n",
    "        save_as_image(data['mel_spectrogram_db'], mel_mag_path_png)\n",
    "            \n",
    "        features = {\n",
    "            'ZCR': time_domain.zero_crossing_rate(data['signal']),\n",
    "            'LogE': time_domain.logenergy_computation(data['signal']),\n",
    "        }\n",
    "        mfcc_features = time_domain.melfrequency_cepstral_coefficients('lib', *([None] * 5), sound_file=p)\n",
    "        all_data[str(p)] = {\n",
    "            **mfcc_features,\n",
    "            **features\n",
    "        }"
   ]
  },
  {
   "cell_type": "code",
   "execution_count": 26,
   "id": "e653ca60-eb9a-4673-be39-65516119bec1",
   "metadata": {},
   "outputs": [],
   "source": []
  },
  {
   "cell_type": "code",
   "execution_count": 27,
   "id": "3e738819-628d-4f53-a74d-2a82e0f6e12b",
   "metadata": {},
   "outputs": [],
   "source": []
  },
  {
   "cell_type": "code",
   "execution_count": null,
   "id": "948043dd-05c3-4b59-9d9e-dc59cf609bcd",
   "metadata": {},
   "outputs": [],
   "source": []
  }
 ],
 "metadata": {
  "kernelspec": {
   "display_name": "Python 3 (ipykernel)",
   "language": "python",
   "name": "python3"
  },
  "language_info": {
   "codemirror_mode": {
    "name": "ipython",
    "version": 3
   },
   "file_extension": ".py",
   "mimetype": "text/x-python",
   "name": "python",
   "nbconvert_exporter": "python",
   "pygments_lexer": "ipython3",
   "version": "3.8.8"
  }
 },
 "nbformat": 4,
 "nbformat_minor": 5
}
